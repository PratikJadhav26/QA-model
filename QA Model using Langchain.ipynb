{
 "cells": [
  {
   "cell_type": "code",
   "execution_count": 1,
   "id": "ac0e8a77",
   "metadata": {},
   "outputs": [],
   "source": [
    "import os\n",
    "\n",
    "from dotenv import load_dotenv, find_dotenv\n",
    "_ = load_dotenv(find_dotenv()) # read local .env file"
   ]
  },
  {
   "cell_type": "code",
   "execution_count": null,
   "id": "56e0b5d2",
   "metadata": {},
   "outputs": [],
   "source": []
  },
  {
   "cell_type": "code",
   "execution_count": 9,
   "id": "2c5750f1",
   "metadata": {},
   "outputs": [],
   "source": [
    "import os\n",
    "import openai\n",
    "from dotenv import load_dotenv, find_dotenv\n",
    "_ = load_dotenv(find_dotenv()) # read local .env file\n",
    "\n",
    "openai.api_key  = os.getenv('OPENAI_API_KEY')"
   ]
  },
  {
   "cell_type": "code",
   "execution_count": 3,
   "id": "fb7e8a89",
   "metadata": {},
   "outputs": [],
   "source": [
    "import datetime\n",
    "current_date=datetime.datetime.now().date()\n",
    "target_date=datetime.date(2024,6,12)\n",
    "if current_date > target_date:\n",
    "    llm_model = \"gpt-3.5-turbo\"\n",
    "else:\n",
    "    llm_model = \"gpt-3.5-turbo-0301\""
   ]
  },
  {
   "cell_type": "code",
   "execution_count": 4,
   "id": "2a84c205",
   "metadata": {},
   "outputs": [],
   "source": [
    "from langchain.chains import RetrievalQA\n",
    "from langchain.chat_models import ChatOpenAI\n",
    "from langchain.document_loaders import CSVLoader\n",
    "from langchain.vectorstores import DocArrayInMemorySearch\n",
    "from IPython.display import display,Markdown"
   ]
  },
  {
   "cell_type": "code",
   "execution_count": 5,
   "id": "00a99f3b",
   "metadata": {},
   "outputs": [],
   "source": [
    "from langchain.indexes import VectorstoreIndexCreator"
   ]
  },
  {
   "cell_type": "code",
   "execution_count": 31,
   "id": "02f300ad",
   "metadata": {},
   "outputs": [
    {
     "name": "stdout",
     "output_type": "stream",
     "text": [
      "Failed to load file data\\~$data.docx with error: File is not a zip file. Skipping...\n"
     ]
    }
   ],
   "source": [
    "from llama_index import VectorStoreIndex, SimpleDirectoryReader,SummaryIndex\n",
    "\n",
    "documents = SimpleDirectoryReader(\"data\").load_data()\n",
    "index = VectorStoreIndex.from_documents(documents)"
   ]
  },
  {
   "cell_type": "code",
   "execution_count": 11,
   "id": "86088795",
   "metadata": {},
   "outputs": [
    {
     "name": "stdout",
     "output_type": "stream",
     "text": [
      "The author mentioned that growing up, they worked on two main things outside of school: writing and programming. They wrote short stories and also tried writing programs on an IBM 1401 computer. They used an early version of Fortran and had to type programs on punch cards. They also mentioned getting a microcomputer later on and started programming more extensively, writing simple games and a word processor.\n"
     ]
    }
   ],
   "source": [
    "query_engine = index.as_query_engine()\n",
    "response = query_engine.query(\"What did the author do growing up?\")\n",
    "print(response)"
   ]
  },
  {
   "cell_type": "code",
   "execution_count": 12,
   "id": "92be875f",
   "metadata": {},
   "outputs": [
    {
     "name": "stdout",
     "output_type": "stream",
     "text": [
      "The author worked on a project called Bel, which was mostly written in England.\n"
     ]
    }
   ],
   "source": [
    "query_engine = index.as_query_engine()\n",
    "response = query_engine.query(\"where author working?\")\n",
    "print(response)"
   ]
  },
  {
   "cell_type": "code",
   "execution_count": 14,
   "id": "8afd9b99",
   "metadata": {},
   "outputs": [
    {
     "name": "stdout",
     "output_type": "stream",
     "text": [
      "The author describes the short stories they worked on before college as \"awful\" and lacking in plot. They mention that the stories mainly focused on characters with strong feelings, which the author believed made them deep.\n"
     ]
    }
   ],
   "source": [
    "query_engine = index.as_query_engine()\n",
    "response = query_engine.query('''In the beginning, the author mentions working on short\n",
    "stories before college. What was the nature of these\n",
    "short stories, and how does the author describe them?''')\n",
    "print(response)"
   ]
  },
  {
   "cell_type": "code",
   "execution_count": 15,
   "id": "a7970475",
   "metadata": {},
   "outputs": [
    {
     "name": "stdout",
     "output_type": "stream",
     "text": [
      "The author used an early version of Fortran to program on the IBM 1401 in 9th grade. They faced challenges in figuring out what to do with the machine since the only form of input was data stored on punched cards, and they didn't have any data stored on punched cards. The only other option was to do things that didn't rely on any input, like calculating approximations of pi, but they didn't know enough math to do anything interesting of that type.\n"
     ]
    }
   ],
   "source": [
    "query_engine = index.as_query_engine()\n",
    "response = query_engine.query('''The author talks about programming on an IBM 1401 in 9th grade. \n",
    "                              What language did they use, and what challenges did they face in using this machine?''')\n",
    "print(response)"
   ]
  },
  {
   "cell_type": "markdown",
   "id": "fe5909ae",
   "metadata": {},
   "source": [
    "### Summarization"
   ]
  },
  {
   "cell_type": "code",
   "execution_count": 32,
   "id": "027ad372",
   "metadata": {},
   "outputs": [],
   "source": [
    "index = SummaryIndex.from_documents(documents)\n",
    "\n",
    "query_engine = index.as_query_engine(response_mode=\"tree_summarize\")\n",
    "response = query_engine.query(\"What is a summary of this collection of text?\")\n"
   ]
  },
  {
   "cell_type": "code",
   "execution_count": 33,
   "id": "2acb8ead",
   "metadata": {},
   "outputs": [
    {
     "name": "stdout",
     "output_type": "stream",
     "text": [
      "The collection of text provides a narrative of the author's journey through various experiences, including writing, programming, artificial intelligence, art, and entrepreneurship. It starts with the author's early experiences with writing and programming, leading to their fascination with microcomputers and eventual interest in AI. However, the author becomes more interested in Lisp programming and decides to focus on it, eventually writing a book about Lisp hacking. The text then shifts to the author's experiences as an art student, their involvement in the art world, and exploration of the World Wide Web. The author's venture of putting art galleries online is not successful, leading them to pivot and start a company called Viaweb, which builds online stores. The challenges, growth, and eventual acquisition of Viaweb by Yahoo are discussed. The author eventually leaves the company to pursue painting and starts their own investment firm. The text also touches on the founding and growth of Y Combinator, the author's personal anecdotes, and philosophical musings. Overall, the collection of text provides insights into the author's journey, projects, and reflections.\n"
     ]
    }
   ],
   "source": [
    "print(response)"
   ]
  },
  {
   "cell_type": "markdown",
   "id": "4f93d5ae",
   "metadata": {},
   "source": [
    "### Queries over Structured Data"
   ]
  },
  {
   "cell_type": "code",
   "execution_count": 56,
   "id": "d253413e",
   "metadata": {},
   "outputs": [],
   "source": [
    "from sqlalchemy import (\n",
    "    create_engine,\n",
    "    MetaData,\n",
    "    Table,\n",
    "    Column,\n",
    "    String,\n",
    "    Integer,\n",
    "    select,\n",
    "    column,\n",
    ")\n",
    "\n",
    "engine = create_engine(\"sqlite:///:memory:\")\n",
    "metadata_obj = MetaData()"
   ]
  },
  {
   "cell_type": "code",
   "execution_count": 57,
   "id": "852c993c",
   "metadata": {},
   "outputs": [],
   "source": [
    "# create city SQL table\n",
    "table_name = \"city_stats\"\n",
    "city_stats_table = Table(\n",
    "    table_name,\n",
    "    metadata_obj,\n",
    "    Column(\"city_name\", String(16), primary_key=True),\n",
    "    Column(\"population\", Integer),\n",
    "    Column(\"country\", String(16), nullable=False),\n",
    ")\n",
    "metadata_obj.create_all(engine)"
   ]
  },
  {
   "cell_type": "code",
   "execution_count": 58,
   "id": "43c10d74",
   "metadata": {},
   "outputs": [],
   "source": [
    "from sqlalchemy import insert\n",
    "\n",
    "rows = [\n",
    "    {\"city_name\": \"Toronto\", \"population\": 2731571, \"country\": \"Canada\"},\n",
    "    {\"city_name\": \"Tokyo\", \"population\": 13929286, \"country\": \"Japan\"},\n",
    "    {\"city_name\": \"Berlin\", \"population\": 600000, \"country\": \"Germany\"},\n",
    "]\n",
    "for row in rows:\n",
    "    stmt = insert(city_stats_table).values(**row)\n",
    "    with engine.begin() as connection:\n",
    "        cursor = connection.execute(stmt)"
   ]
  },
  {
   "cell_type": "code",
   "execution_count": 59,
   "id": "8792bfce",
   "metadata": {},
   "outputs": [],
   "source": [
    "from llama_index import SQLDatabase\n",
    "\n",
    "sql_database=SQLDatabase(engine,include_tables=['city_stats'])"
   ]
  },
  {
   "cell_type": "markdown",
   "id": "8f6215aa",
   "metadata": {},
   "source": [
    "### natural language sql query"
   ]
  },
  {
   "cell_type": "code",
   "execution_count": 60,
   "id": "bc5ee38a",
   "metadata": {},
   "outputs": [],
   "source": [
    "from llama_index.indices.struct_store import NLSQLTableQueryEngine"
   ]
  },
  {
   "cell_type": "code",
   "execution_count": 70,
   "id": "cf1df807",
   "metadata": {},
   "outputs": [
    {
     "name": "stdout",
     "output_type": "stream",
     "text": [
      "The city with the highest population is Tokyo, with a population of 13,929,286.\n"
     ]
    }
   ],
   "source": [
    "query_engine=NLSQLTableQueryEngine(\n",
    "sql_database=sql_database,\n",
    "tables=['city_stats'],\n",
    ")\n",
    "query_str=\"Which city has the highest population and give the  number of population of that city?\"\n",
    "response=query_engine.query(query_str)\n",
    "print(response)"
   ]
  },
  {
   "cell_type": "code",
   "execution_count": 75,
   "id": "3a1b862d",
   "metadata": {},
   "outputs": [
    {
     "name": "stdout",
     "output_type": "stream",
     "text": [
      "Index   City Name   Country\n",
      "1         Toronto        Canada\n",
      "2         Tokyo          Japan\n",
      "3         Berlin         Germany\n"
     ]
    }
   ],
   "source": [
    "query_engine=NLSQLTableQueryEngine(\n",
    "sql_database=sql_database,\n",
    "tables=['city_stats'],\n",
    ")\n",
    "query_str=\"give the names present city and country in table format with index number ?\"\n",
    "response=query_engine.query(query_str)\n",
    "print(response)"
   ]
  },
  {
   "cell_type": "code",
   "execution_count": 76,
   "id": "affd06ff",
   "metadata": {},
   "outputs": [
    {
     "name": "stdout",
     "output_type": "stream",
     "text": [
      "No, Berlin is not a city in Canada.\n"
     ]
    }
   ],
   "source": [
    "query_engine=NLSQLTableQueryEngine(\n",
    "sql_database=sql_database,\n",
    "tables=['city_stats'],\n",
    ")\n",
    "query_str=\"canada is country of berlin right ?\"\n",
    "response=query_engine.query(query_str)\n",
    "print(response)"
   ]
  },
  {
   "cell_type": "code",
   "execution_count": 77,
   "id": "608c67e9",
   "metadata": {},
   "outputs": [
    {
     "name": "stdout",
     "output_type": "stream",
     "text": [
      "I'm sorry, but there is no data available for the population of Canada in the city_stats table.\n"
     ]
    }
   ],
   "source": [
    "query_engine=NLSQLTableQueryEngine(\n",
    "sql_database=sql_database,\n",
    "tables=['city_stats'],\n",
    ")\n",
    "query_str=\"canada have huge populationtn isn't it ?\"\n",
    "response=query_engine.query(query_str)\n",
    "print(response)"
   ]
  },
  {
   "cell_type": "code",
   "execution_count": 81,
   "id": "122ce0bf",
   "metadata": {},
   "outputs": [
    {
     "name": "stdout",
     "output_type": "stream",
     "text": [
      "Tokyo actually has a much larger population compared to Berlin. According to the city statistics, Tokyo has a population of approximately 13,929,286, while Berlin has a population of around 600,000.\n"
     ]
    }
   ],
   "source": [
    "query_engine=NLSQLTableQueryEngine(\n",
    "sql_database=sql_database,\n",
    "tables=['city_stats'],\n",
    ")\n",
    "query_str=\"Berlin  have huge populationtn isn't it and highest of compare to other city ? then what about Tokyo?\"\n",
    "response=query_engine.query(query_str)\n",
    "print(response)"
   ]
  },
  {
   "cell_type": "code",
   "execution_count": null,
   "id": "fc284260",
   "metadata": {},
   "outputs": [],
   "source": []
  }
 ],
 "metadata": {
  "kernelspec": {
   "display_name": "Python 3 (ipykernel)",
   "language": "python",
   "name": "python3"
  },
  "language_info": {
   "codemirror_mode": {
    "name": "ipython",
    "version": 3
   },
   "file_extension": ".py",
   "mimetype": "text/x-python",
   "name": "python",
   "nbconvert_exporter": "python",
   "pygments_lexer": "ipython3",
   "version": "3.9.12"
  }
 },
 "nbformat": 4,
 "nbformat_minor": 5
}
